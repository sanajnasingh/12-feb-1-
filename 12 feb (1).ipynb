{
 "cells": [
  {
   "cell_type": "markdown",
   "id": "277f4a4e-c19d-4e4b-8da9-92d22f0415c5",
   "metadata": {},
   "source": [
    "ANS 1"
   ]
  },
  {
   "cell_type": "code",
   "execution_count": null,
   "id": "424d72c3-1d7a-403f-98f1-5106918218e9",
   "metadata": {},
   "outputs": [],
   "source": [
    "An exception is an event, which occurs during the execution of a program that disrupts the normal flow of the program's\n",
    "instructions.\n",
    "An error is an issue in a program that prevents the program from completing its task. In comparison, \n",
    "an exception is a condition that interrupts the normal flow of the program. Both errors and exceptions are a type of runtime\n",
    "error, which means they occur during the execution of a program."
   ]
  },
  {
   "cell_type": "markdown",
   "id": "260afdf2-8c67-4094-8b4f-98caec4885e1",
   "metadata": {},
   "source": [
    "ans 2"
   ]
  },
  {
   "cell_type": "code",
   "execution_count": null,
   "id": "37c3ac13-f92c-4e47-bf8a-8facef09dd9d",
   "metadata": {},
   "outputs": [],
   "source": [
    "If the exception is not handled by an except clause, the exception is re-raised after the finally clause has been executed.\n",
    "Example. When an exception is thrown in the try block, the execution immediately passes to the finally block. After all the\n",
    "statements in the finally block are executed, the exception is raised again and is handled in the except statements if present in the \n",
    "next higher layer of the try-except statement"
   ]
  },
  {
   "cell_type": "markdown",
   "id": "5745cfc5-c298-4985-8a84-b3aa98b1aa99",
   "metadata": {},
   "source": [
    "ANS 4"
   ]
  },
  {
   "cell_type": "code",
   "execution_count": null,
   "id": "bb0c4cd1-c81b-48d6-95a7-0b2c97a1f647",
   "metadata": {},
   "outputs": [],
   "source": [
    "Try: This block will test the excepted error to occur.\n",
    "Except:  Here you can handle the error.\n",
    "Else: If there is no exception then this block will be executed.\n",
    "Finally: Finally block always gets executed either exception is generated or not."
   ]
  },
  {
   "cell_type": "code",
   "execution_count": 2,
   "id": "7a470769-2652-4393-9b2a-99c1edbb92ec",
   "metadata": {},
   "outputs": [],
   "source": [
    "def divide(x, y):\n",
    "    try:\n",
    "        # Floor Division : Gives only Fractional\n",
    "        # Part as Answer\n",
    "        result = x // y\n",
    "    except ZeroDivisionError:\n",
    "        print(\"Sorry ! You are dividing by zero \")\n",
    "    else:\n",
    "        print(\"Yeah ! Your answer is :\", result)\n",
    "    finally: \n",
    "        # this block is always executed  \n",
    "        # regardless of exception generation. \n",
    "        print('This is always executed')\n",
    "        "
   ]
  },
  {
   "cell_type": "code",
   "execution_count": 3,
   "id": "f14f9de8-2b75-40ed-b3ed-8d7992488eb9",
   "metadata": {},
   "outputs": [
    {
     "name": "stdout",
     "output_type": "stream",
     "text": [
      "Yeah ! Your answer is : 1\n",
      "This is always executed\n",
      "Sorry ! You are dividing by zero \n",
      "This is always executed\n"
     ]
    }
   ],
   "source": [
    "divide(3, 2)\n",
    "divide(3, 0)"
   ]
  },
  {
   "cell_type": "markdown",
   "id": "e969be8a-26bc-4033-9b79-88edcdf751a9",
   "metadata": {},
   "source": [
    "ANS 3"
   ]
  },
  {
   "cell_type": "markdown",
   "id": "5efea48b-db44-4ec0-8b9a-11ade3f948e3",
   "metadata": {},
   "source": [
    "The try and except block in Python is used to catch and handle exceptions. Python executes code following the try\n",
    "statement as a “normal” part of the program. The code that follows the except statement is the program's response to any exceptions in the preceding \n",
    "try clause."
   ]
  },
  {
   "cell_type": "code",
   "execution_count": 7,
   "id": "d1d839ab-e986-49a0-8531-e88fe267fc10",
   "metadata": {},
   "outputs": [
    {
     "data": {
      "text/plain": [
       "12"
      ]
     },
     "execution_count": 7,
     "metadata": {},
     "output_type": "execute_result"
    }
   ],
   "source": [
    "try:\n",
    "    f=open(\"test.txt\",'w')\n",
    "except Exception as e:\n",
    "    print(\"this is my except block\",e)\n",
    "a=4+8\n",
    "a"
   ]
  },
  {
   "cell_type": "markdown",
   "id": "454b3f44-3823-4350-b4b1-1400e92d0f8a",
   "metadata": {},
   "source": [
    "ANS 5"
   ]
  },
  {
   "cell_type": "code",
   "execution_count": null,
   "id": "52729df2-bd4d-4729-bbb3-a3def0874247",
   "metadata": {},
   "outputs": [],
   "source": [
    "Custom exceptions provide you the flexibility to add attributes and methods that are not part of a standard Java exception. \n",
    "These can store additional information, like an application-specific error code, or provide utility methods that can be used to\n",
    "handle or present the exception to a user."
   ]
  },
  {
   "cell_type": "code",
   "execution_count": 17,
   "id": "062aa541-40b8-4485-9630-aa5efe256c81",
   "metadata": {},
   "outputs": [
    {
     "name": "stdin",
     "output_type": "stream",
     "text": [
      "Enter a number:  -856\n"
     ]
    },
    {
     "name": "stdout",
     "output_type": "stream",
     "text": [
      "Exception occurred: Invalid Age\n"
     ]
    }
   ],
   "source": [
    "# define Python user-defined exceptions\n",
    "class InvalidAgeException(Exception):\n",
    "    \"Raised when the input value is less than 18\"\n",
    "    pass\n",
    "\n",
    "# you need to guess this number\n",
    "number = 18\n",
    "\n",
    "try:\n",
    "    input_num = int(input(\"Enter a number: \"))\n",
    "    if input_num < number:\n",
    "        raise InvalidAgeException\n",
    "    else:\n",
    "        print(\"Eligible to Vote\")\n",
    "        \n",
    "except InvalidAgeException:\n",
    "    print(\"Exception occurred: Invalid Age\")"
   ]
  },
  {
   "cell_type": "markdown",
   "id": "308431e2-4ad1-4c00-86cb-c95f9bcfd1b0",
   "metadata": {},
   "source": [
    "ANS 6"
   ]
  },
  {
   "cell_type": "code",
   "execution_count": 14,
   "id": "017f79f1-84d9-45bf-84c9-03cb3c7ffabf",
   "metadata": {},
   "outputs": [],
   "source": [
    "class validateage(Exception):\n",
    "    \n",
    "    def __init__(self,msg):\n",
    "        self.msg=msg"
   ]
  },
  {
   "cell_type": "code",
   "execution_count": 15,
   "id": "6a217277-7a32-4e8f-bf4a-4f94ecd626d4",
   "metadata": {},
   "outputs": [],
   "source": [
    "def validateage(age):\n",
    "    if age < 0 :\n",
    "        raise validateage(\"entered age is negative\")\n",
    "    elif age > 200:\n",
    "        raise validateage(\"entered age is very very high\")\n",
    "    else:\n",
    "        print(\"age is valid \")"
   ]
  },
  {
   "cell_type": "code",
   "execution_count": 16,
   "id": "41d29184-bcf8-46e4-b5f9-be035d546055",
   "metadata": {},
   "outputs": [
    {
     "name": "stdin",
     "output_type": "stream",
     "text": [
      "enter your age 78\n"
     ]
    },
    {
     "name": "stdout",
     "output_type": "stream",
     "text": [
      "age is valid \n"
     ]
    }
   ],
   "source": [
    "try:\n",
    "    age=int(input(\"enter your age\"))\n",
    "    validateage(age)\n",
    "except validateage as e:\n",
    "    print(e)"
   ]
  },
  {
   "cell_type": "code",
   "execution_count": null,
   "id": "422646e3-0a3c-4a3f-9e7e-8a97b184ec9a",
   "metadata": {},
   "outputs": [],
   "source": []
  }
 ],
 "metadata": {
  "kernelspec": {
   "display_name": "Python 3 (ipykernel)",
   "language": "python",
   "name": "python3"
  },
  "language_info": {
   "codemirror_mode": {
    "name": "ipython",
    "version": 3
   },
   "file_extension": ".py",
   "mimetype": "text/x-python",
   "name": "python",
   "nbconvert_exporter": "python",
   "pygments_lexer": "ipython3",
   "version": "3.10.8"
  }
 },
 "nbformat": 4,
 "nbformat_minor": 5
}
